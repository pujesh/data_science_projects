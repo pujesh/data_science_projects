{
 "cells": [
  {
   "cell_type": "markdown",
   "id": "47d62149",
   "metadata": {},
   "source": [
    "# <center>Data Science Principles and Practices</center> \n",
    "## <center>Final Project</center>\n",
    "### **<div align=\"right\">By: Pujesh Pradhan </div>**"
   ]
  },
  {
   "cell_type": "markdown",
   "id": "62e3dda9",
   "metadata": {},
   "source": [
    "### Table of Content\n",
    "* [Introduction](#Introduction)\n",
    "* [Requirements](#Requirements)\n",
    "* [Data Preparation and Data Visualization](#Data-Preparation-and-Data-Visualization)\n",
    "* [Algorithm Implementation and Statistical Tests](#Algorithm-Implementation-and-Statistical-Tests)\n",
    "* [Conclusion](#Conclusion)"
   ]
  },
  {
   "cell_type": "markdown",
   "id": "aff5b84b",
   "metadata": {},
   "source": [
    "### Introduction "
   ]
  },
  {
   "cell_type": "markdown",
   "id": "3fbd18ca",
   "metadata": {},
   "source": [
    "#### Objective"
   ]
  },
  {
   "cell_type": "markdown",
   "id": "70f531e0",
   "metadata": {},
   "source": [
    "Prediciting the medical expenses of any given individual. Based on the prediction of medical expenses made for any given individual, an insurance company can determine the insurance premium for that particular individual. "
   ]
  },
  {
   "cell_type": "markdown",
   "id": "279cff72",
   "metadata": {},
   "source": [
    "#### Overview"
   ]
  },
  {
   "cell_type": "markdown",
   "id": "19a74fe9",
   "metadata": {},
   "source": [
    "An insurance premium is the amount of money an individual or business pay for an insurance policy. Insurance premiums are paid for policies that cover healthcare, auto, home, and life insurance. Once earned, the premium is income for the insurance company. It also represents a liability, as the insurer must provide coverage for claims being made against the policy. \n",
    "\n",
    "When a person signs up for an insurance policy, the insurer will charge them a premium. This is the amount an individual has to pay for the policy. Insurance premiums may increase after the policy period ends. The insurer may increase the premium for claims made during the previous period if the risk associated with offering a particular type of insurance increases, or if the cost of providing coverage increases.\n",
    "\n",
    "Insurance companies generally employ actuaries (assesses and manages the risks of financial investments, insurance policies, and other potentially risky ventures) to determine risk levels and premium prices for a given insurance policy. The emergence of sophisticated algorithms and artificial intelligence is fundamentally changing how insurance is priced and sold. There is an active debate between those who say algorithms will replace human actuaries in the future."
   ]
  },
  {
   "cell_type": "markdown",
   "id": "706f55a4",
   "metadata": {},
   "source": [
    "#### About the Dataset"
   ]
  },
  {
   "cell_type": "markdown",
   "id": "84772530",
   "metadata": {},
   "source": [
    "The dataset that is being used for this project is a \"Insurance Premium Prediction\" dataset. \n",
    "\n",
    "The source of the dataset is kaggle and the link to the dataset is: [Insurance Premium Prediction](https://www.kaggle.com/noordeen/insurance-premium-prediction)\n",
    "\n",
    "This dataset contains 1338 observations and 7 features. The list of the features and their descriptions are: \n",
    "1. **Age:** Age of an individual. \n",
    "2. **Sex:** Gender of an individual. \n",
    "3. **BMI:** Body Mass Index of an individual. An individual's weight in kilograms divided by the square of height in meters. \n",
    "4. **Children:** Number of children of an individual.\n",
    "5. **Smoker:** Is an individual a smoker or not. \n",
    "6. **Region:** Region where an individual is located. \n",
    "7. **Expenses:** Medical expenses of an individual. "
   ]
  },
  {
   "cell_type": "markdown",
   "id": "6dbe40ae",
   "metadata": {},
   "source": [
    "### Requirements"
   ]
  },
  {
   "cell_type": "markdown",
   "id": "3648b81c",
   "metadata": {},
   "source": [
    "List of all the required libraries to carry out the project are listed below. "
   ]
  },
  {
   "cell_type": "code",
   "execution_count": 1,
   "id": "551febbe",
   "metadata": {},
   "outputs": [],
   "source": [
    "import numpy as np\n",
    "import pandas as pd \n",
    "\n",
    "import seaborn as sns\n",
    "\n",
    "import copy\n",
    "\n",
    "from sklearn.model_selection import train_test_split, GridSearchCV\n",
    "from sklearn.preprocessing import StandardScaler\n",
    "from sklearn.linear_model import LinearRegression, Lasso, ElasticNet, Ridge\n",
    "from sklearn.metrics import mean_squared_error\n",
    "from sklearn.feature_selection import SelectKBest, chi2\n",
    "\n",
    "import matplotlib.pyplot as plt\n",
    "\n",
    "import warnings\n",
    "warnings.filterwarnings('ignore')\n",
    "\n",
    "import math"
   ]
  },
  {
   "cell_type": "markdown",
   "id": "65cbe17b",
   "metadata": {},
   "source": [
    "### Data Preparation and Data Visualization"
   ]
  },
  {
   "cell_type": "code",
   "execution_count": 2,
   "id": "9769f248",
   "metadata": {},
   "outputs": [
    {
     "name": "stdout",
     "output_type": "stream",
     "text": [
      "The top 5 records from the dataset are as follows: \n"
     ]
    },
    {
     "data": {
      "text/html": [
       "<div>\n",
       "<style scoped>\n",
       "    .dataframe tbody tr th:only-of-type {\n",
       "        vertical-align: middle;\n",
       "    }\n",
       "\n",
       "    .dataframe tbody tr th {\n",
       "        vertical-align: top;\n",
       "    }\n",
       "\n",
       "    .dataframe thead th {\n",
       "        text-align: right;\n",
       "    }\n",
       "</style>\n",
       "<table border=\"1\" class=\"dataframe\">\n",
       "  <thead>\n",
       "    <tr style=\"text-align: right;\">\n",
       "      <th></th>\n",
       "      <th>age</th>\n",
       "      <th>sex</th>\n",
       "      <th>bmi</th>\n",
       "      <th>children</th>\n",
       "      <th>smoker</th>\n",
       "      <th>region</th>\n",
       "      <th>expenses</th>\n",
       "    </tr>\n",
       "  </thead>\n",
       "  <tbody>\n",
       "    <tr>\n",
       "      <th>0</th>\n",
       "      <td>19</td>\n",
       "      <td>female</td>\n",
       "      <td>27.9</td>\n",
       "      <td>0</td>\n",
       "      <td>yes</td>\n",
       "      <td>southwest</td>\n",
       "      <td>16884.92</td>\n",
       "    </tr>\n",
       "    <tr>\n",
       "      <th>1</th>\n",
       "      <td>18</td>\n",
       "      <td>male</td>\n",
       "      <td>33.8</td>\n",
       "      <td>1</td>\n",
       "      <td>no</td>\n",
       "      <td>southeast</td>\n",
       "      <td>1725.55</td>\n",
       "    </tr>\n",
       "    <tr>\n",
       "      <th>2</th>\n",
       "      <td>28</td>\n",
       "      <td>male</td>\n",
       "      <td>33.0</td>\n",
       "      <td>3</td>\n",
       "      <td>no</td>\n",
       "      <td>southeast</td>\n",
       "      <td>4449.46</td>\n",
       "    </tr>\n",
       "    <tr>\n",
       "      <th>3</th>\n",
       "      <td>33</td>\n",
       "      <td>male</td>\n",
       "      <td>22.7</td>\n",
       "      <td>0</td>\n",
       "      <td>no</td>\n",
       "      <td>northwest</td>\n",
       "      <td>21984.47</td>\n",
       "    </tr>\n",
       "    <tr>\n",
       "      <th>4</th>\n",
       "      <td>32</td>\n",
       "      <td>male</td>\n",
       "      <td>28.9</td>\n",
       "      <td>0</td>\n",
       "      <td>no</td>\n",
       "      <td>northwest</td>\n",
       "      <td>3866.86</td>\n",
       "    </tr>\n",
       "  </tbody>\n",
       "</table>\n",
       "</div>"
      ],
      "text/plain": [
       "   age     sex   bmi  children smoker     region  expenses\n",
       "0   19  female  27.9         0    yes  southwest  16884.92\n",
       "1   18    male  33.8         1     no  southeast   1725.55\n",
       "2   28    male  33.0         3     no  southeast   4449.46\n",
       "3   33    male  22.7         0     no  northwest  21984.47\n",
       "4   32    male  28.9         0     no  northwest   3866.86"
      ]
     },
     "execution_count": 2,
     "metadata": {},
     "output_type": "execute_result"
    }
   ],
   "source": [
    "insurance = pd.read_csv('insurance.csv')\n",
    "\n",
    "insurance_data = insurance.copy(deep=True)\n",
    "print(\"The top 5 records from the dataset are as follows: \")\n",
    "insurance_data.head()"
   ]
  },
  {
   "cell_type": "code",
   "execution_count": 3,
   "id": "adda9a50",
   "metadata": {},
   "outputs": [
    {
     "name": "stdout",
     "output_type": "stream",
     "text": [
      "The provided data set has 1338 rows and 7 columns with a shape of (1338, 7)\n",
      "\n",
      "The list of columns of the dataset is: \n",
      "Index(['age', 'sex', 'bmi', 'children', 'smoker', 'region', 'expenses'], dtype='object')\n"
     ]
    }
   ],
   "source": [
    "print(\"The provided data set has {} rows and {} columns with a shape of {}\\n\".\n",
    "      format(\n",
    "          insurance_data.shape[0], \n",
    "          insurance_data.shape[1],\n",
    "          insurance_data.shape\n",
    "      ))\n",
    "\n",
    "insurance_data_cols = insurance_data.columns\n",
    "print(\"The list of columns of the dataset is: \\n{}\".format(insurance_data_cols))"
   ]
  },
  {
   "cell_type": "markdown",
   "id": "bf6aaf29",
   "metadata": {},
   "source": [
    "Checking if there are any null values in any of the column fields."
   ]
  },
  {
   "cell_type": "code",
   "execution_count": 4,
   "id": "ed3844eb",
   "metadata": {},
   "outputs": [
    {
     "data": {
      "text/plain": [
       "age         0\n",
       "sex         0\n",
       "bmi         0\n",
       "children    0\n",
       "smoker      0\n",
       "region      0\n",
       "expenses    0\n",
       "dtype: int64"
      ]
     },
     "execution_count": 4,
     "metadata": {},
     "output_type": "execute_result"
    }
   ],
   "source": [
    "insurance_data.isnull().sum()"
   ]
  },
  {
   "cell_type": "markdown",
   "id": "f2f9cd18",
   "metadata": {},
   "source": [
    "There are no fields with null values thus we do not need to drop or manage any fields. \n",
    "\n",
    "All of the data are well populated. "
   ]
  },
  {
   "cell_type": "code",
   "execution_count": 5,
   "id": "4f2d945a",
   "metadata": {},
   "outputs": [
    {
     "name": "stdout",
     "output_type": "stream",
     "text": [
      "The data types of each feature in the dataset are as follows: \n",
      "age           int64\n",
      "sex          object\n",
      "bmi         float64\n",
      "children      int64\n",
      "smoker       object\n",
      "region       object\n",
      "expenses    float64\n",
      "dtype: object\n"
     ]
    }
   ],
   "source": [
    "print(\"The data types of each feature in the dataset are as follows: \\n{}\".format(insurance_data.dtypes))"
   ]
  },
  {
   "cell_type": "markdown",
   "id": "a28ae8c4",
   "metadata": {},
   "source": [
    "We can see that there are 3 features that are non-numeric data type. We can convert these features into numerical dataset. \n",
    "\n",
    "We will replace the columns with their numerical value for each of these columns and add it to the dataframe. \n",
    "The unique values for each columns with object types are: "
   ]
  },
  {
   "cell_type": "code",
   "execution_count": 6,
   "id": "72f1c0e9",
   "metadata": {},
   "outputs": [
    {
     "name": "stdout",
     "output_type": "stream",
     "text": [
      "The unique values of the feature sex are : ['female' 'male']\n",
      "\n",
      "The unique values of the feature smoker are : ['yes' 'no']\n",
      "\n",
      "The unique values of the feature region are : ['southwest' 'southeast' 'northwest' 'northeast']\n",
      "\n"
     ]
    }
   ],
   "source": [
    "for column_name in insurance_data.columns:\n",
    "    if insurance_data[column_name].dtype == 'O':\n",
    "        print(\"The unique values of the feature {} are : {}\\n\".\n",
    "              format(\n",
    "                  column_name, \n",
    "                  insurance_data[column_name].unique()\n",
    "              ))\n"
   ]
  },
  {
   "cell_type": "markdown",
   "id": "1f084723",
   "metadata": {},
   "source": [
    "The above columns to be converted and their new values are as follows: \n",
    "1. Sex: Female = 0, Male = 1\n",
    "2. Smoker: Yes = 1, No = 0\n",
    "3. Region: Southwest = 0, Southeast = 1, Northwest = 2, Northeast = 3"
   ]
  },
  {
   "cell_type": "code",
   "execution_count": 7,
   "id": "62014766",
   "metadata": {},
   "outputs": [
    {
     "name": "stdout",
     "output_type": "stream",
     "text": [
      "The top 5 records of the dataframe after adding the new columns: \n"
     ]
    },
    {
     "data": {
      "text/html": [
       "<div>\n",
       "<style scoped>\n",
       "    .dataframe tbody tr th:only-of-type {\n",
       "        vertical-align: middle;\n",
       "    }\n",
       "\n",
       "    .dataframe tbody tr th {\n",
       "        vertical-align: top;\n",
       "    }\n",
       "\n",
       "    .dataframe thead th {\n",
       "        text-align: right;\n",
       "    }\n",
       "</style>\n",
       "<table border=\"1\" class=\"dataframe\">\n",
       "  <thead>\n",
       "    <tr style=\"text-align: right;\">\n",
       "      <th></th>\n",
       "      <th>age</th>\n",
       "      <th>sex</th>\n",
       "      <th>bmi</th>\n",
       "      <th>children</th>\n",
       "      <th>smoker</th>\n",
       "      <th>region</th>\n",
       "      <th>expenses</th>\n",
       "    </tr>\n",
       "  </thead>\n",
       "  <tbody>\n",
       "    <tr>\n",
       "      <th>0</th>\n",
       "      <td>19</td>\n",
       "      <td>0</td>\n",
       "      <td>27.9</td>\n",
       "      <td>0</td>\n",
       "      <td>1</td>\n",
       "      <td>0</td>\n",
       "      <td>16884.92</td>\n",
       "    </tr>\n",
       "    <tr>\n",
       "      <th>1</th>\n",
       "      <td>18</td>\n",
       "      <td>1</td>\n",
       "      <td>33.8</td>\n",
       "      <td>1</td>\n",
       "      <td>0</td>\n",
       "      <td>1</td>\n",
       "      <td>1725.55</td>\n",
       "    </tr>\n",
       "    <tr>\n",
       "      <th>2</th>\n",
       "      <td>28</td>\n",
       "      <td>1</td>\n",
       "      <td>33.0</td>\n",
       "      <td>3</td>\n",
       "      <td>0</td>\n",
       "      <td>1</td>\n",
       "      <td>4449.46</td>\n",
       "    </tr>\n",
       "    <tr>\n",
       "      <th>3</th>\n",
       "      <td>33</td>\n",
       "      <td>1</td>\n",
       "      <td>22.7</td>\n",
       "      <td>0</td>\n",
       "      <td>0</td>\n",
       "      <td>2</td>\n",
       "      <td>21984.47</td>\n",
       "    </tr>\n",
       "    <tr>\n",
       "      <th>4</th>\n",
       "      <td>32</td>\n",
       "      <td>1</td>\n",
       "      <td>28.9</td>\n",
       "      <td>0</td>\n",
       "      <td>0</td>\n",
       "      <td>2</td>\n",
       "      <td>3866.86</td>\n",
       "    </tr>\n",
       "  </tbody>\n",
       "</table>\n",
       "</div>"
      ],
      "text/plain": [
       "   age  sex   bmi  children  smoker  region  expenses\n",
       "0   19    0  27.9         0       1       0  16884.92\n",
       "1   18    1  33.8         1       0       1   1725.55\n",
       "2   28    1  33.0         3       0       1   4449.46\n",
       "3   33    1  22.7         0       0       2  21984.47\n",
       "4   32    1  28.9         0       0       2   3866.86"
      ]
     },
     "execution_count": 7,
     "metadata": {},
     "output_type": "execute_result"
    }
   ],
   "source": [
    "insurance_data['sex'] = insurance_data['sex'].replace({'female':0, 'male':1})\n",
    "insurance_data['smoker'] = insurance_data['smoker'].replace({'yes':1, 'no':0})\n",
    "insurance_data['region'] = insurance_data['region'].replace(\n",
    "    {'southwest':0, 'southeast':1, 'northwest':2, 'northeast':3}\n",
    ")\n",
    "\n",
    "print(\"The top 5 records of the dataframe after adding the new columns: \")\n",
    "insurance_data.head()"
   ]
  },
  {
   "cell_type": "code",
   "execution_count": 8,
   "id": "ef4cdc97",
   "metadata": {},
   "outputs": [
    {
     "name": "stdout",
     "output_type": "stream",
     "text": [
      "Looking at the statistics on the given dataset.\n"
     ]
    },
    {
     "data": {
      "text/html": [
       "<div>\n",
       "<style scoped>\n",
       "    .dataframe tbody tr th:only-of-type {\n",
       "        vertical-align: middle;\n",
       "    }\n",
       "\n",
       "    .dataframe tbody tr th {\n",
       "        vertical-align: top;\n",
       "    }\n",
       "\n",
       "    .dataframe thead th {\n",
       "        text-align: right;\n",
       "    }\n",
       "</style>\n",
       "<table border=\"1\" class=\"dataframe\">\n",
       "  <thead>\n",
       "    <tr style=\"text-align: right;\">\n",
       "      <th></th>\n",
       "      <th>age</th>\n",
       "      <th>sex</th>\n",
       "      <th>bmi</th>\n",
       "      <th>children</th>\n",
       "      <th>smoker</th>\n",
       "      <th>region</th>\n",
       "      <th>expenses</th>\n",
       "    </tr>\n",
       "  </thead>\n",
       "  <tbody>\n",
       "    <tr>\n",
       "      <th>count</th>\n",
       "      <td>1338.000000</td>\n",
       "      <td>1338.000000</td>\n",
       "      <td>1338.000000</td>\n",
       "      <td>1338.000000</td>\n",
       "      <td>1338.000000</td>\n",
       "      <td>1338.000000</td>\n",
       "      <td>1338.000000</td>\n",
       "    </tr>\n",
       "    <tr>\n",
       "      <th>mean</th>\n",
       "      <td>39.207025</td>\n",
       "      <td>0.505232</td>\n",
       "      <td>30.665471</td>\n",
       "      <td>1.094918</td>\n",
       "      <td>0.204783</td>\n",
       "      <td>1.484305</td>\n",
       "      <td>13270.422414</td>\n",
       "    </tr>\n",
       "    <tr>\n",
       "      <th>std</th>\n",
       "      <td>14.049960</td>\n",
       "      <td>0.500160</td>\n",
       "      <td>6.098382</td>\n",
       "      <td>1.205493</td>\n",
       "      <td>0.403694</td>\n",
       "      <td>1.104885</td>\n",
       "      <td>12110.011240</td>\n",
       "    </tr>\n",
       "    <tr>\n",
       "      <th>min</th>\n",
       "      <td>18.000000</td>\n",
       "      <td>0.000000</td>\n",
       "      <td>16.000000</td>\n",
       "      <td>0.000000</td>\n",
       "      <td>0.000000</td>\n",
       "      <td>0.000000</td>\n",
       "      <td>1121.870000</td>\n",
       "    </tr>\n",
       "    <tr>\n",
       "      <th>25%</th>\n",
       "      <td>27.000000</td>\n",
       "      <td>0.000000</td>\n",
       "      <td>26.300000</td>\n",
       "      <td>0.000000</td>\n",
       "      <td>0.000000</td>\n",
       "      <td>1.000000</td>\n",
       "      <td>4740.287500</td>\n",
       "    </tr>\n",
       "    <tr>\n",
       "      <th>50%</th>\n",
       "      <td>39.000000</td>\n",
       "      <td>1.000000</td>\n",
       "      <td>30.400000</td>\n",
       "      <td>1.000000</td>\n",
       "      <td>0.000000</td>\n",
       "      <td>1.000000</td>\n",
       "      <td>9382.030000</td>\n",
       "    </tr>\n",
       "    <tr>\n",
       "      <th>75%</th>\n",
       "      <td>51.000000</td>\n",
       "      <td>1.000000</td>\n",
       "      <td>34.700000</td>\n",
       "      <td>2.000000</td>\n",
       "      <td>0.000000</td>\n",
       "      <td>2.000000</td>\n",
       "      <td>16639.915000</td>\n",
       "    </tr>\n",
       "    <tr>\n",
       "      <th>max</th>\n",
       "      <td>64.000000</td>\n",
       "      <td>1.000000</td>\n",
       "      <td>53.100000</td>\n",
       "      <td>5.000000</td>\n",
       "      <td>1.000000</td>\n",
       "      <td>3.000000</td>\n",
       "      <td>63770.430000</td>\n",
       "    </tr>\n",
       "  </tbody>\n",
       "</table>\n",
       "</div>"
      ],
      "text/plain": [
       "               age          sex          bmi     children       smoker  \\\n",
       "count  1338.000000  1338.000000  1338.000000  1338.000000  1338.000000   \n",
       "mean     39.207025     0.505232    30.665471     1.094918     0.204783   \n",
       "std      14.049960     0.500160     6.098382     1.205493     0.403694   \n",
       "min      18.000000     0.000000    16.000000     0.000000     0.000000   \n",
       "25%      27.000000     0.000000    26.300000     0.000000     0.000000   \n",
       "50%      39.000000     1.000000    30.400000     1.000000     0.000000   \n",
       "75%      51.000000     1.000000    34.700000     2.000000     0.000000   \n",
       "max      64.000000     1.000000    53.100000     5.000000     1.000000   \n",
       "\n",
       "            region      expenses  \n",
       "count  1338.000000   1338.000000  \n",
       "mean      1.484305  13270.422414  \n",
       "std       1.104885  12110.011240  \n",
       "min       0.000000   1121.870000  \n",
       "25%       1.000000   4740.287500  \n",
       "50%       1.000000   9382.030000  \n",
       "75%       2.000000  16639.915000  \n",
       "max       3.000000  63770.430000  "
      ]
     },
     "execution_count": 8,
     "metadata": {},
     "output_type": "execute_result"
    }
   ],
   "source": [
    "print(\"Looking at the statistics on the given dataset.\")\n",
    "insurance_data.describe()"
   ]
  },
  {
   "cell_type": "markdown",
   "id": "8e2cbd3f",
   "metadata": {},
   "source": [
    "We can see that the ranges of all the columns are different. To get better results from the algorithm, it is better to scale our data so that the features with large values do not dominate features with smaller values. \n",
    "\n",
    "By looking at above statistics table, there could be few outliers in the expenses feature, since the difference between the 75th percentile and max value is large. "
   ]
  },
  {
   "cell_type": "code",
   "execution_count": 9,
   "id": "25ba5456",
   "metadata": {},
   "outputs": [
    {
     "data": {
      "image/png": "[encoded data removed]",
      "text/plain": [
       "<Figure size 1440x720 with 9 Axes>"
      ]
     },
     "metadata": {
      "needs_background": "light"
     },
     "output_type": "display_data"
    }
   ],
   "source": [
    "histogram_figures = insurance_data.hist(figsize=(20,10))"
   ]
  },
  {
   "cell_type": "code",
   "execution_count": 10,
   "id": "06b7cd79",
   "metadata": {},
   "outputs": [
    {
     "name": "stdout",
     "output_type": "stream",
     "text": [
      "Finding how the data are distributed! \n",
      "We can find out if the data are normally distributed or skewed by using the skew method provided by the pandas library.\n",
      "\n",
      "Feature age is right skewed.\n",
      "Feature sex is left skewed.\n",
      "Feature bmi is right skewed.\n",
      "Feature children is right skewed.\n",
      "Feature smoker is right skewed.\n",
      "Feature region is right skewed.\n",
      "Feature expenses is right skewed.\n"
     ]
    }
   ],
   "source": [
    "print(\"Finding how the data are distributed! \\nWe can find out if the data are normally distributed or skewed by using the skew method provided by the pandas library.\\n\")\n",
    "\n",
    "for keys in insurance_data.keys():\n",
    "    if insurance_data[keys].skew()>0:\n",
    "        print(\"Feature {} is right skewed.\".format(keys))\n",
    "    elif insurance_data[keys].skew()<0:\n",
    "        print(\"Feature {} is left skewed.\".format(keys))\n",
    "    else: \n",
    "        print(\"Feature {} is normally distributed\".format(keys))"
   ]
  },
  {
   "cell_type": "markdown",
   "id": "8a17e3b7",
   "metadata": {},
   "source": [
    "With the help of the above histogram and the output from the skew method, we can say that the data for each features are not normally distributed. There are skewness present in our dataset. \n",
    "\n",
    "The above histogram could indicate a possibility of outliers in our data. To find if our data contains any outliers we can examine our dataset using the boxplot diagram."
   ]
  },
  {
   "cell_type": "code",
   "execution_count": 11,
   "id": "18f01a25",
   "metadata": {},
   "outputs": [
    {
     "data": {
      "text/plain": [
       "<Figure size 720x720 with 0 Axes>"
      ]
     },
     "metadata": {},
     "output_type": "display_data"
    },
    {
     "data": {
      "image/png": "[encoded data removed]",
      "text/plain": [
       "<Figure size 360x360 with 1 Axes>"
      ]
     },
     "metadata": {
      "needs_background": "light"
     },
     "output_type": "display_data"
    }
   ],
   "source": [
    "plt.figure(figsize=(10,10))\n",
    "box_plot = sns.catplot(\n",
    "    x='sex', \n",
    "    y='expenses', \n",
    "    data=insurance,\n",
    "    kind='box'\n",
    ")"
   ]
  },
  {
   "cell_type": "markdown",
   "id": "454fc4b3",
   "metadata": {},
   "source": [
    "From the above boxplot, we can see that the range of the expenses between both male and female are about the same, while the median spending between the two are equal. Moreover, the third quartile determines that the majority of male have higher spending as compared to that of the female. \n",
    "The data has high number of outliers for both male as well as female. \n",
    "\n",
    "Since there are high number of outliers present in the data, we will drop data for the following conditions: \n",
    "1. female and expenses > 30,000 and \n",
    "2. male and expenses > 40,000 "
   ]
  },
  {
   "cell_type": "code",
   "execution_count": 12,
   "id": "12c16819",
   "metadata": {},
   "outputs": [],
   "source": [
    "insurance_data.drop(\n",
    "    insurance_data[(insurance_data.sex == 0) & (insurance_data.expenses > 30000)].index, \n",
    "    inplace=True\n",
    ")\n",
    "\n",
    "insurance_data.drop(\n",
    "    insurance_data[(insurance_data.sex == 1) & (insurance_data.expenses > 40000)].index,\n",
    "    inplace=True\n",
    ")"
   ]
  },
  {
   "cell_type": "code",
   "execution_count": 13,
   "id": "b684005a",
   "metadata": {},
   "outputs": [
    {
     "name": "stdout",
     "output_type": "stream",
     "text": [
      "The new shape of our dataset after the deletion of the outliers is \n",
      "(1232, 7) where there are 1232 rows and 7 columns\n"
     ]
    }
   ],
   "source": [
    "print(\"The new shape of our dataset after the deletion of the outliers is \\n{} where there are {} rows and {} columns\".\n",
    "      format(\n",
    "          insurance_data.shape,\n",
    "          insurance_data.shape[0],\n",
    "          insurance_data.shape[1]\n",
    "      ))\n"
   ]
  },
  {
   "cell_type": "code",
   "execution_count": 14,
   "id": "1bfb6bdd",
   "metadata": {},
   "outputs": [
    {
     "data": {
      "text/plain": [
       "<AxesSubplot:xlabel='sex', ylabel='age'>"
      ]
     },
     "execution_count": 14,
     "metadata": {},
     "output_type": "execute_result"
    },
    {
     "data": {
      "image/png": "[encoded data removed]",
      "text/plain": [
       "<Figure size 576x360 with 2 Axes>"
      ]
     },
     "metadata": {
      "needs_background": "light"
     },
     "output_type": "display_data"
    }
   ],
   "source": [
    "plt.figure(figsize=(8,5))\n",
    "plt.subplot(1,2,1)\n",
    "sns.countplot(x='sex', data=insurance_data)\n",
    "\n",
    "plt.subplot(1,2,2)\n",
    "sns.swarmplot(x='sex', y='age', data=insurance_data)"
   ]
  },
  {
   "cell_type": "markdown",
   "id": "4176f224",
   "metadata": {},
   "source": [
    "Here, after the deletion of the outliers, we can see that the distribution of the data between both the gender is almost equal in the count plot. Since, the count of each gender is similar, we are not dropping any observations from male. \n",
    "\n",
    "Similarly, the distribution of male and female with respect to age is similar. From the swarm plot above we see that there are large number of young individuals for both the gender. There are slighlty more older females than compared to the males."
   ]
  },
  {
   "cell_type": "code",
   "execution_count": 15,
   "id": "41d7fc16",
   "metadata": {},
   "outputs": [
    {
     "data": {
      "image/png": "[encoded data removed]",
      "text/plain": [
       "<Figure size 432x288 with 1 Axes>"
      ]
     },
     "metadata": {
      "needs_background": "light"
     },
     "output_type": "display_data"
    }
   ],
   "source": [
    "bar_plot = sns.barplot(x='region', y='expenses', data=insurance_data)"
   ]
  },
  {
   "cell_type": "markdown",
   "id": "e82cf299",
   "metadata": {},
   "source": [
    "The spending on all the region are above 10,000 with northeast region having highest spending among all the regions. "
   ]
  },
  {
   "cell_type": "code",
   "execution_count": 16,
   "id": "4a929a53",
   "metadata": {},
   "outputs": [
    {
     "data": {
      "image/png": "[encoded data removed]",
      "text/plain": [
       "<Figure size 432x288 with 1 Axes>"
      ]
     },
     "metadata": {
      "needs_background": "light"
     },
     "output_type": "display_data"
    }
   ],
   "source": [
    "scatter_plot = sns.scatterplot(x='age', y='expenses', data=insurance_data, hue='sex')"
   ]
  },
  {
   "cell_type": "markdown",
   "id": "7f4993c1",
   "metadata": {},
   "source": [
    "From the scatter plot, it looks like as the age increases of an individual, the medical expenses also increases. Having said that, we can still see few outliers especially for the male gender where their medical expenses are high in younger age too. \n",
    "\n",
    "Could this expenses be more for male due to their smoking habits? <br/>\n",
    "We can find out which gender has higher number of smoker and see if the price of the medical expenses higher for individuals who smoke. "
   ]
  },
  {
   "cell_type": "code",
   "execution_count": 17,
   "id": "573b4c69",
   "metadata": {},
   "outputs": [
    {
     "data": {
      "text/plain": [
       "<AxesSubplot:xlabel='smoker', ylabel='expenses'>"
      ]
     },
     "execution_count": 17,
     "metadata": {},
     "output_type": "execute_result"
    },
    {
     "data": {
      "image/png": "[encoded data removed]",
      "text/plain": [
       "<Figure size 720x360 with 2 Axes>"
      ]
     },
     "metadata": {
      "needs_background": "light"
     },
     "output_type": "display_data"
    }
   ],
   "source": [
    "fig, ax = plt.subplots(1,2, figsize=(10,5))\n",
    "sns.barplot(x='sex', y='smoker', data=insurance_data, ax=ax[0])\n",
    "sns.violinplot(x='smoker', y='expenses', data=insurance_data, ax=ax[1])\n",
    "# smoker_bar_plot = sns.catplot(x='sex', y='smoker', data=insurance_data, kind='bar')\n",
    "# smoker_violin_plot = sns.catplot(x='smoker', y='expenses', data=insurance_data, kind='violin')"
   ]
  },
  {
   "cell_type": "markdown",
   "id": "4336fdd7",
   "metadata": {},
   "source": [
    "It looks like we have higher number of male individual who smokes than the female individuals.\n",
    "\n",
    "The other chart suggests that, individual who smokes are highly likely to have higher medical expenses. While the individual who did not smoke have lower medical expenses, there are still few non-smoker whose medical expenses are high. \n",
    "\n",
    "To get better insights on how each predictor features are related with the target features, we can use the correlation coefficient. Correlation describes the linear relation of the two features, while the correlation coefficient indicates how strongly the features are correlated. \n",
    "\n",
    "Finding the correlation coefficient between the features: "
   ]
  },
  {
   "cell_type": "code",
   "execution_count": 18,
   "id": "834bf884",
   "metadata": {},
   "outputs": [
    {
     "data": {
      "image/png": "[encoded data removed]",
      "text/plain": [
       "<Figure size 720x720 with 2 Axes>"
      ]
     },
     "metadata": {
      "needs_background": "light"
     },
     "output_type": "display_data"
    }
   ],
   "source": [
    "correlation = insurance_data.corr()\n",
    "plt.figure(figsize=(10,10))\n",
    "corr_heatmap = sns.heatmap(correlation, annot=True)"
   ]
  },
  {
   "cell_type": "markdown",
   "id": "6935ddde",
   "metadata": {},
   "source": [
    "The heatmap above shows the correlation between each pair of features. None of the predictor features are strongly correlated with the target features. Both the correlation between smoker-expenses and children-expenses feature indicates they have strong positive linear relationship with smoker-expenses having slightly stronger relationship.\n",
    "\n",
    "There aren't any relationship that creates a colinear model. Hence, we are not dropping any features as of now. \n",
    "\n",
    "With children having strong positive relation with the medical expenses indicates that the medical insurance plan could include children of an individual to the plan. We can see if this condition is true from the following bar plot with children feature against the expenses feature. "
   ]
  },
  {
   "cell_type": "code",
   "execution_count": 19,
   "id": "b03340c8",
   "metadata": {},
   "outputs": [
    {
     "data": {
      "image/png": "[encoded data removed]",
      "text/plain": [
       "<Figure size 720x432 with 2 Axes>"
      ]
     },
     "metadata": {
      "needs_background": "light"
     },
     "output_type": "display_data"
    }
   ],
   "source": [
    "fig, ax = plt.subplots(1,2, figsize=(10,6))\n",
    "\n",
    "children_bar_plot = sns.barplot(x='children', y='expenses', data=insurance_data, ax=ax[0])\n",
    "children_violin_plot = sns.violinplot(x='children', y='expenses', data=insurance_data, ax=ax[1])"
   ]
  },
  {
   "cell_type": "markdown",
   "id": "7ddb47ca",
   "metadata": {},
   "source": [
    "The above two charts indicates that having more number of kids does not determine the expenses of an individual rises. There could be different assumption on this situation, such as can a children of an individual be included in the same policy? or Some children could be old enough to work and have their own medical insurances. \n",
    "\n",
    "The spending of any individuals with the five children has comparitively lower expenses than the other individuals but most of the population falls under this category. The expenses of individual having children between zero and three have higher expenses but the violin plot points that there are some outliers in the data that have pulled the range of the expenses higher. \n",
    "\n",
    "\n",
    "Since we have manually removed outliers from the data above, and from the data preparation and valuation, the final data we look as follows:"
   ]
  },
  {
   "cell_type": "code",
   "execution_count": 20,
   "id": "95f2bc6e",
   "metadata": {},
   "outputs": [
    {
     "data": {
      "text/html": [
       "<div>\n",
       "<style scoped>\n",
       "    .dataframe tbody tr th:only-of-type {\n",
       "        vertical-align: middle;\n",
       "    }\n",
       "\n",
       "    .dataframe tbody tr th {\n",
       "        vertical-align: top;\n",
       "    }\n",
       "\n",
       "    .dataframe thead th {\n",
       "        text-align: right;\n",
       "    }\n",
       "</style>\n",
       "<table border=\"1\" class=\"dataframe\">\n",
       "  <thead>\n",
       "    <tr style=\"text-align: right;\">\n",
       "      <th></th>\n",
       "      <th>age</th>\n",
       "      <th>sex</th>\n",
       "      <th>bmi</th>\n",
       "      <th>children</th>\n",
       "      <th>smoker</th>\n",
       "      <th>region</th>\n",
       "      <th>expenses</th>\n",
       "    </tr>\n",
       "  </thead>\n",
       "  <tbody>\n",
       "    <tr>\n",
       "      <th>0</th>\n",
       "      <td>19</td>\n",
       "      <td>0</td>\n",
       "      <td>27.9</td>\n",
       "      <td>0</td>\n",
       "      <td>1</td>\n",
       "      <td>0</td>\n",
       "      <td>16884.92</td>\n",
       "    </tr>\n",
       "    <tr>\n",
       "      <th>1</th>\n",
       "      <td>18</td>\n",
       "      <td>1</td>\n",
       "      <td>33.8</td>\n",
       "      <td>1</td>\n",
       "      <td>0</td>\n",
       "      <td>1</td>\n",
       "      <td>1725.55</td>\n",
       "    </tr>\n",
       "    <tr>\n",
       "      <th>2</th>\n",
       "      <td>28</td>\n",
       "      <td>1</td>\n",
       "      <td>33.0</td>\n",
       "      <td>3</td>\n",
       "      <td>0</td>\n",
       "      <td>1</td>\n",
       "      <td>4449.46</td>\n",
       "    </tr>\n",
       "    <tr>\n",
       "      <th>3</th>\n",
       "      <td>33</td>\n",
       "      <td>1</td>\n",
       "      <td>22.7</td>\n",
       "      <td>0</td>\n",
       "      <td>0</td>\n",
       "      <td>2</td>\n",
       "      <td>21984.47</td>\n",
       "    </tr>\n",
       "    <tr>\n",
       "      <th>4</th>\n",
       "      <td>32</td>\n",
       "      <td>1</td>\n",
       "      <td>28.9</td>\n",
       "      <td>0</td>\n",
       "      <td>0</td>\n",
       "      <td>2</td>\n",
       "      <td>3866.86</td>\n",
       "    </tr>\n",
       "  </tbody>\n",
       "</table>\n",
       "</div>"
      ],
      "text/plain": [
       "   age  sex   bmi  children  smoker  region  expenses\n",
       "0   19    0  27.9         0       1       0  16884.92\n",
       "1   18    1  33.8         1       0       1   1725.55\n",
       "2   28    1  33.0         3       0       1   4449.46\n",
       "3   33    1  22.7         0       0       2  21984.47\n",
       "4   32    1  28.9         0       0       2   3866.86"
      ]
     },
     "execution_count": 20,
     "metadata": {},
     "output_type": "execute_result"
    }
   ],
   "source": [
    "insurance_data.head()"
   ]
  },
  {
   "cell_type": "code",
   "execution_count": 21,
   "id": "86c4129b",
   "metadata": {
    "scrolled": true
   },
   "outputs": [
    {
     "name": "stdout",
     "output_type": "stream",
     "text": [
      "Now since the data is finalized after all the required processing, we can store the dataframe into a file \n",
      "such that the data is readily available for future use. We will use to_pickle file to create a pickle file to store \n",
      "the dataframe into a file. \n",
      "\n",
      "The dataframe is stored into the insurance_data_processed.pkl file.\n"
     ]
    }
   ],
   "source": [
    "print(\"Now since the data is finalized after all the required processing, we can store the dataframe into a file \\n\\\n",
    "such that the data is readily available for future use. We will use to_pickle file to create a pickle file to store \\n\\\n",
    "the dataframe into a file. \\n\")\n",
    "\n",
    "file_name = 'insurance_data_processed.pkl'\n",
    "insurance_data.to_pickle(file_name)\n",
    "\n",
    "print(\"The dataframe is stored into the {} file.\".format(file_name))"
   ]
  },
  {
   "cell_type": "markdown",
   "id": "e2ac2a6e",
   "metadata": {},
   "source": [
    "### Algorithm Implementation and Statistical Tests"
   ]
  },
  {
   "cell_type": "markdown",
   "id": "981bfe0b",
   "metadata": {},
   "source": [
    "To start with the Linear Regression algorithm implementation, the dataset is divided into train and test data set. The train dataset will be used to fit the algorithm, while the test data is used to test against the output of the algorithm. \n",
    "\n",
    "From the visualization, initially all the features except expenses are used as predictor variables while expenses will be the target value. \n",
    "\n",
    "As seen from the data distribution, the data has skewness and are not normally distributed. Due to this, the  MinMaxScaler is used to scale the predictor features. "
   ]
  },
  {
   "cell_type": "code",
   "execution_count": 22,
   "id": "977f0c46",
   "metadata": {},
   "outputs": [
    {
     "name": "stdout",
     "output_type": "stream",
     "text": [
      "Since, the dataset has 1232 observations, we will use 20% of the dataset as the test set and remaining will \n",
      "be used as training set, which will equal to about 985 rows of training set and 246 rows of test set. \n"
     ]
    }
   ],
   "source": [
    "print(\"Since, the dataset has {} observations, we will use 20% of the dataset as the test set and remaining will \\n\\\n",
    "be used as training set, which will equal to about {} rows of training set and {} rows of test set. \".\n",
    "     format(\n",
    "         insurance_data.shape[0],\n",
    "         math.floor(insurance_data.shape[0] * 0.80),\n",
    "         math.floor(insurance_data.shape[0] * 0.20)\n",
    "     ))"
   ]
  },
  {
   "cell_type": "code",
   "execution_count": 23,
   "id": "04886c0c",
   "metadata": {},
   "outputs": [
    {
     "name": "stdout",
     "output_type": "stream",
     "text": [
      "The shape of the train-test dataset after the split looks like: \n",
      "train set: (985, 6) and (247, 6)\n",
      "test set: (985, 1) and (247, 1)\n",
      "\n",
      "The data after scaling looks like: \n"
     ]
    },
    {
     "data": {
      "text/html": [
       "<div>\n",
       "<style scoped>\n",
       "    .dataframe tbody tr th:only-of-type {\n",
       "        vertical-align: middle;\n",
       "    }\n",
       "\n",
       "    .dataframe tbody tr th {\n",
       "        vertical-align: top;\n",
       "    }\n",
       "\n",
       "    .dataframe thead th {\n",
       "        text-align: right;\n",
       "    }\n",
       "</style>\n",
       "<table border=\"1\" class=\"dataframe\">\n",
       "  <thead>\n",
       "    <tr style=\"text-align: right;\">\n",
       "      <th></th>\n",
       "      <th>age</th>\n",
       "      <th>sex</th>\n",
       "      <th>bmi</th>\n",
       "      <th>children</th>\n",
       "      <th>smoker</th>\n",
       "      <th>region</th>\n",
       "    </tr>\n",
       "  </thead>\n",
       "  <tbody>\n",
       "    <tr>\n",
       "      <th>0</th>\n",
       "      <td>-1.410929</td>\n",
       "      <td>-1.021331</td>\n",
       "      <td>-0.388609</td>\n",
       "      <td>-0.894029</td>\n",
       "      <td>2.474144</td>\n",
       "      <td>-1.345025</td>\n",
       "    </tr>\n",
       "    <tr>\n",
       "      <th>1</th>\n",
       "      <td>-1.482483</td>\n",
       "      <td>0.979114</td>\n",
       "      <td>0.594346</td>\n",
       "      <td>-0.066498</td>\n",
       "      <td>-0.404180</td>\n",
       "      <td>-0.445909</td>\n",
       "    </tr>\n",
       "    <tr>\n",
       "      <th>2</th>\n",
       "      <td>-0.766942</td>\n",
       "      <td>0.979114</td>\n",
       "      <td>0.461064</td>\n",
       "      <td>1.588564</td>\n",
       "      <td>-0.404180</td>\n",
       "      <td>-0.445909</td>\n",
       "    </tr>\n",
       "    <tr>\n",
       "      <th>3</th>\n",
       "      <td>-0.409171</td>\n",
       "      <td>0.979114</td>\n",
       "      <td>-1.254942</td>\n",
       "      <td>-0.894029</td>\n",
       "      <td>-0.404180</td>\n",
       "      <td>0.453207</td>\n",
       "    </tr>\n",
       "    <tr>\n",
       "      <th>4</th>\n",
       "      <td>-0.480725</td>\n",
       "      <td>0.979114</td>\n",
       "      <td>-0.222006</td>\n",
       "      <td>-0.894029</td>\n",
       "      <td>-0.404180</td>\n",
       "      <td>0.453207</td>\n",
       "    </tr>\n",
       "  </tbody>\n",
       "</table>\n",
       "</div>"
      ],
      "text/plain": [
       "        age       sex       bmi  children    smoker    region\n",
       "0 -1.410929 -1.021331 -0.388609 -0.894029  2.474144 -1.345025\n",
       "1 -1.482483  0.979114  0.594346 -0.066498 -0.404180 -0.445909\n",
       "2 -0.766942  0.979114  0.461064  1.588564 -0.404180 -0.445909\n",
       "3 -0.409171  0.979114 -1.254942 -0.894029 -0.404180  0.453207\n",
       "4 -0.480725  0.979114 -0.222006 -0.894029 -0.404180  0.453207"
      ]
     },
     "execution_count": 23,
     "metadata": {},
     "output_type": "execute_result"
    }
   ],
   "source": [
    "pred_var = insurance_data.drop('expenses', axis=1)\n",
    "targ_var = insurance_data[['expenses']]\n",
    "\n",
    "scaler = StandardScaler()\n",
    "#Transforming the numpy array into dataframe for easy readability. \n",
    "pred_var = pd.DataFrame(\n",
    "    scaler.fit_transform(pred_var),\n",
    "    columns=insurance_data_cols[:6]\n",
    ")\n",
    "\n",
    "#Splitting data into train-test dataset\n",
    "X_train, x_test, Y_train, y_test = train_test_split(pred_var, targ_var, test_size=0.2, random_state=2)\n",
    "\n",
    "print(\"The shape of the train-test dataset after the split looks like: \\n\\\n",
    "train set: {} and {}\\n\\\n",
    "test set: {} and {}\\n\\\n",
    "\".format(X_train.shape, x_test.shape, Y_train.shape, y_test.shape))\n",
    "\n",
    "print(\"The data after scaling looks like: \")\n",
    "pred_var.head()"
   ]
  },
  {
   "cell_type": "code",
   "execution_count": 24,
   "id": "38771659",
   "metadata": {
    "scrolled": false
   },
   "outputs": [
    {
     "name": "stdout",
     "output_type": "stream",
     "text": [
      "The predicted value after are stored in the y_pred variable after fitting the training set into the \n",
      "Linear Regression expression and the shape of the predicted value is :(247, 1)\n",
      "\n",
      "The slope and the intercept of our linear equation will be given by : \n",
      "slope: [[3078.08704573  341.57681826  988.86478871  438.91953659 6376.49578402\n",
      "   402.26697543]]\n",
      "intercept: [10784.50158311]\n",
      "\n",
      "To determine how well the data is fitted, we can find the co-efficient of determination for the given model\n",
      " and the r-squared value is: 0.6725016840325554\n",
      "\n",
      "The linear equation can be written as: \n",
      "\n",
      "y = 10784.50158311262 + 3078.087045732484 x_0 + 341.57681826367207 x_1 + 988.8647887123634 x_2 + 438.9195365862081 x_3 + 6376.495784021706 x_4 + 402.2669754289096 x_5\n"
     ]
    }
   ],
   "source": [
    "linearreg = LinearRegression()\n",
    "\n",
    "linearreg.fit(X_train, Y_train)\n",
    "y_pred = linearreg.predict(x_test)\n",
    "\n",
    "print(\"The predicted value after are stored in the y_pred variable after fitting the training set into the \\n\\\n",
    "Linear Regression expression and the shape of the predicted value is :{}\\n\"\n",
    "     .format(y_pred.shape))\n",
    "\n",
    "print(\"The slope and the intercept of our linear equation will be given by : \\n\\\n",
    "slope: {}\\n\\\n",
    "intercept: {}\\n\".format(\n",
    "    linearreg.coef_, linearreg.intercept_\n",
    "))\n",
    "\n",
    "print(\"To determine how well the data is fitted, we can find the co-efficient of determination for the given model\\n\\\n",
    " and the r-squared value is: {}\\n\".format(linearreg.score(x_test, y_test)))\n",
    "\n",
    "print(\"The linear equation can be written as: \\n\")\n",
    "lin_eq = 'y = ' + str(linearreg.intercept_[0]) \n",
    "for ind, coeff in enumerate(linearreg.coef_[0]):\n",
    "    lin_eq = lin_eq + ' + ' + str(coeff) + ' x_' + str(ind)\n",
    "    \n",
    "print(lin_eq)"
   ]
  },
  {
   "cell_type": "markdown",
   "id": "5b4e9a70",
   "metadata": {},
   "source": [
    "Here, the co-efficient of determination shows that the data is not well fitted. We can use other metrics such as mean-squared-error to compare the fit of the model. \n",
    "\n",
    "If the ratio of MSE of test to MSE of train is close to 1 and the absolute difference between them are less than 5% then it is a good fit.\n",
    "\n",
    "Finding the MSE on our train as well as test data set to find the ratio and the difference of them. "
   ]
  },
  {
   "cell_type": "code",
   "execution_count": 25,
   "id": "ceb2d7c1",
   "metadata": {},
   "outputs": [
    {
     "name": "stdout",
     "output_type": "stream",
     "text": [
      "The mean-squared error of the test data is: 19931631.915110435\n",
      "\n",
      "The mean-squared error of the train data is: 27299618.95818141\n",
      "\n",
      "The ratio of MSE of test to MSE of train is 0.7301065976650613\n",
      "\n",
      "The absolute difference between the MSE of test and MSE of train is 7367987.043070976\n",
      "\n"
     ]
    }
   ],
   "source": [
    "#MSE of the test data \n",
    "mse_test = mean_squared_error(y_test, y_pred)\n",
    "print(\"The mean-squared error of the test data is: {}\\n\".format(mse_test))\n",
    "\n",
    "y_train_pred = linearreg.predict(X_train)\n",
    "\n",
    "#MSE of the train data \n",
    "mse_train = mean_squared_error(Y_train, y_train_pred)\n",
    "print(\"The mean-squared error of the train data is: {}\\n\".format(mse_train))\n",
    "\n",
    "#Finding the ratio for MSE of test to MSE of train.\n",
    "mse_ratio = mse_test/mse_train \n",
    "print(\"The ratio of MSE of test to MSE of train is {}\\n\".format(mse_ratio))\n",
    "\n",
    "#Finding the absolute difference between MSE of test and MSE of train. \n",
    "abs_diff = abs(mse_test - mse_train)\n",
    "print(\"The absolute difference between the MSE of test and MSE of train is {}\\n\".format(abs_diff))"
   ]
  },
  {
   "cell_type": "markdown",
   "id": "3107e020",
   "metadata": {},
   "source": [
    "Since, the fit of the model with all the independent features selected was not good enough for the prediction, we can use a SelectKBest and chi2 method to find the most important features to predict the medical expenses of an individual given the selected features. \n",
    "\n",
    "The SelectKBest only takes class labels in classification or real numbers in regression for the target value. Thus, for this purpose the target values are rounded off. "
   ]
  },
  {
   "cell_type": "code",
   "execution_count": 26,
   "id": "5814cbc9",
   "metadata": {},
   "outputs": [
    {
     "name": "stdout",
     "output_type": "stream",
     "text": [
      "      Field        Score\n",
      "0       age  6170.837208\n",
      "3  children  1643.479339\n",
      "2       bmi  1429.938261\n",
      "4    smoker  1051.878613\n",
      "5    region   995.569000\n",
      "1       sex   592.880233\n"
     ]
    }
   ],
   "source": [
    "select_k_best = SelectKBest(score_func=chi2, k=5)\n",
    "\n",
    "x = insurance_data.iloc[:, 0:6]\n",
    "y = insurance_data.iloc[:, -1].round()\n",
    "\n",
    "best_result = select_k_best.fit(x, y)\n",
    "\n",
    "scores = pd.DataFrame(best_result.scores_)\n",
    "columns = pd.DataFrame(pred_var.columns)\n",
    "\n",
    "feature_scores = pd.concat([columns, scores], axis=1)\n",
    "feature_scores.columns = ['Field', 'Score']\n",
    "\n",
    "print(feature_scores.nlargest(6, 'Score'))"
   ]
  },
  {
   "cell_type": "markdown",
   "id": "cf662ac5",
   "metadata": {},
   "source": [
    "From the above, we see that the most influential factor to determine the medical expenses is age followed by children and bmi. The least best feature is the sex while region and smoker are in between. \n",
    "\n",
    "We will try to fit our model with only age as our predictor variable and then with the first four features whose score are above 1000 to see if the model gives us better fit than the previous ones. "
   ]
  },
  {
   "cell_type": "code",
   "execution_count": 27,
   "id": "440f872d",
   "metadata": {},
   "outputs": [
    {
     "name": "stdout",
     "output_type": "stream",
     "text": [
      "The predicted value after stored in the y_pred variable after fitting the training set into the \n",
      "Linear Regression expression and the shape of the predicted value is :(247,)\n",
      "\n",
      "The slope and the intercept of our linear equation will be given by : \n",
      "slope: [2503.15232979]\n",
      "intercept: 10919.008855514885\n",
      "\n",
      "To determine how well the data is fitted, we can find the co-efficient of determination for the given model\n",
      " and the r-squared value is: 0.12458269055229187\n",
      "\n",
      "The linear equation can be written as: \n",
      "\n",
      "y = 10919.008855514885 + 2503.1523297914023 x_0\n"
     ]
    }
   ],
   "source": [
    "linearreg = LinearRegression()\n",
    "\n",
    "pred_var_1 = pred_var[['age']]\n",
    "targ_var_1 = targ_var.iloc[:, -1]\n",
    "\n",
    "X_train, x_test, Y_train, y_test = train_test_split(pred_var_1, targ_var_1, test_size=0.2, random_state=2)\n",
    "\n",
    "linearreg.fit(X_train, Y_train)\n",
    "y_pred = linearreg.predict(x_test)\n",
    "\n",
    "print(\"The predicted value after stored in the y_pred variable after fitting the training set into the \\n\\\n",
    "Linear Regression expression and the shape of the predicted value is :{}\\n\"\n",
    "     .format(y_pred.shape))\n",
    "\n",
    "print(\"The slope and the intercept of our linear equation will be given by : \\n\\\n",
    "slope: {}\\n\\\n",
    "intercept: {}\\n\".format(\n",
    "    linearreg.coef_, linearreg.intercept_\n",
    "))\n",
    "\n",
    "print(\"To determine how well the data is fitted, we can find the co-efficient of determination for the given model\\n\\\n",
    " and the r-squared value is: {}\\n\".format(linearreg.score(x_test, y_test)))\n",
    "\n",
    "print(\"The linear equation can be written as: \\n\")\n",
    "lin_eq = 'y = ' + str(linearreg.intercept_) \n",
    "for ind, coeff in enumerate(linearreg.coef_):\n",
    "    lin_eq = lin_eq + ' + ' + str(coeff) + ' x_' + str(ind)\n",
    "    \n",
    "print(lin_eq)"
   ]
  },
  {
   "cell_type": "code",
   "execution_count": 28,
   "id": "a5e17aff",
   "metadata": {},
   "outputs": [
    {
     "name": "stdout",
     "output_type": "stream",
     "text": [
      "The mean-squared error of the test data is: 53278123.0721276\n",
      "\n",
      "The mean-squared error of the train data is: 68781458.08129518\n",
      "\n",
      "The ratio of MSE of test to MSE of train is 0.7746000820331019\n",
      "\n",
      "The absolute difference between the MSE of test and MSE of train is 15503335.009167574\n",
      "\n"
     ]
    }
   ],
   "source": [
    "#MSE of the test data \n",
    "mse_test = mean_squared_error(y_test, y_pred)\n",
    "print(\"The mean-squared error of the test data is: {}\\n\".format(mse_test))\n",
    "\n",
    "y_train_pred = linearreg.predict(X_train)\n",
    "\n",
    "#MSE of the train data \n",
    "mse_train = mean_squared_error(Y_train, y_train_pred)\n",
    "print(\"The mean-squared error of the train data is: {}\\n\".format(mse_train))\n",
    "\n",
    "#Finding the ratio for MSE of test to MSE of train.\n",
    "mse_ratio = mse_test/mse_train \n",
    "print(\"The ratio of MSE of test to MSE of train is {}\\n\".format(mse_ratio))\n",
    "\n",
    "#Finding the absolute difference between MSE of test and MSE of train. \n",
    "abs_diff = abs(mse_test - mse_train)\n",
    "print(\"The absolute difference between the MSE of test and MSE of train is {}\\n\".format(abs_diff))"
   ]
  },
  {
   "cell_type": "code",
   "execution_count": 29,
   "id": "a676e219",
   "metadata": {},
   "outputs": [
    {
     "name": "stdout",
     "output_type": "stream",
     "text": [
      "The predicted value after stored in the y_pred variable after fitting the training set into the \n",
      "Linear Regression expression and the shape of the predicted value is :(247,)\n",
      "\n",
      "The slope and the intercept of our linear equation will be given by : \n",
      "slope: [3066.06762969  425.03327502  939.47640436 6412.42969273]\n",
      "intercept: 10789.755091112575\n",
      "\n",
      "To determine how well the data is fitted, we can find the co-efficient of determination for the given model\n",
      " and the r-squared value is: 0.6687355464273451\n",
      "\n",
      "The linear equation can be written as: \n",
      "\n",
      "y = 10789.755091112575 + 3066.0676296892584 x_0 + 425.03327501968124 x_1 + 939.476404360393 x_2 + 6412.429692728818 x_3\n"
     ]
    }
   ],
   "source": [
    "linearreg = LinearRegression()\n",
    "\n",
    "pred_var_1 = pred_var[['age', 'children', 'bmi', 'smoker']]\n",
    "targ_var_1 = targ_var.iloc[:, -1]\n",
    "\n",
    "X_train, x_test, Y_train, y_test = train_test_split(pred_var_1, targ_var_1, test_size=0.2, random_state=2)\n",
    "\n",
    "linearreg.fit(X_train, Y_train)\n",
    "y_pred = linearreg.predict(x_test)\n",
    "\n",
    "print(\"The predicted value after stored in the y_pred variable after fitting the training set into the \\n\\\n",
    "Linear Regression expression and the shape of the predicted value is :{}\\n\"\n",
    "     .format(y_pred.shape))\n",
    "\n",
    "print(\"The slope and the intercept of our linear equation will be given by : \\n\\\n",
    "slope: {}\\n\\\n",
    "intercept: {}\\n\".format(\n",
    "    linearreg.coef_, linearreg.intercept_\n",
    "))\n",
    "\n",
    "print(\"To determine how well the data is fitted, we can find the co-efficient of determination for the given model\\n\\\n",
    " and the r-squared value is: {}\\n\".format(linearreg.score(x_test, y_test)))\n",
    "\n",
    "print(\"The linear equation can be written as: \\n\")\n",
    "lin_eq = 'y = ' + str(linearreg.intercept_) \n",
    "for ind, coeff in enumerate(linearreg.coef_):\n",
    "    lin_eq = lin_eq + ' + ' + str(coeff) + ' x_' + str(ind)\n",
    "    \n",
    "print(lin_eq)"
   ]
  },
  {
   "cell_type": "code",
   "execution_count": 30,
   "id": "1a2d894c",
   "metadata": {},
   "outputs": [
    {
     "name": "stdout",
     "output_type": "stream",
     "text": [
      "The mean-squared error of the test data is: 20160840.02040087\n",
      "\n",
      "The mean-squared error of the train data is: 27570643.369873624\n",
      "\n",
      "The ratio of MSE of test to MSE of train is 0.7312430018383457\n",
      "\n",
      "The absolute difference between the MSE of test and MSE of train is 7409803.349472754\n",
      "\n"
     ]
    }
   ],
   "source": [
    "#MSE of the test data \n",
    "mse_test = mean_squared_error(y_test, y_pred)\n",
    "print(\"The mean-squared error of the test data is: {}\\n\".format(mse_test))\n",
    "\n",
    "y_train_pred = linearreg.predict(X_train)\n",
    "\n",
    "#MSE of the train data \n",
    "mse_train = mean_squared_error(Y_train, y_train_pred)\n",
    "print(\"The mean-squared error of the train data is: {}\\n\".format(mse_train))\n",
    "\n",
    "#Finding the ratio for MSE of test to MSE of train.\n",
    "mse_ratio = mse_test/mse_train \n",
    "print(\"The ratio of MSE of test to MSE of train is {}\\n\".format(mse_ratio))\n",
    "\n",
    "#Finding the absolute difference between MSE of test and MSE of train. \n",
    "abs_diff = abs(mse_test - mse_train)\n",
    "print(\"The absolute difference between the MSE of test and MSE of train is {}\\n\".format(abs_diff))"
   ]
  },
  {
   "cell_type": "markdown",
   "id": "38fa5ed3",
   "metadata": {},
   "source": [
    "The above two models were not able to predict more accurately as we can see the goodness of the fit of each model executed above is not good. \n",
    "\n",
    "We could use the available regularization techniques to find a better model for our problem. We will consider Lasso, Ridge and Elastic linear regression as they come with regularization. \n",
    "\n",
    "Lasso regression uses a L1 regularization which is helpful when we have more number of features, as the weight of any features that are not important will be assigned as zero. \n",
    "\n",
    "Ridge regression uses a L2 regularization which prevents multicollinearity. \n",
    "\n",
    "While Elastic regression uses a combination of Lasso as well as Ridge regression. This means the Elastic will assign zero weight to features that are less important (L1 regularization) and prevent multicollinearity (L2 regularization).\n",
    "\n",
    "Since, from the above two models, we can see that the model having four predictor feature fitted into the model performed better than the one with only one feature. Thus, we will consider all of the features in the following Lasso and Elastic models as well. Also, we will consider multiple values for the alpha parameter in all of the regression."
   ]
  },
  {
   "cell_type": "code",
   "execution_count": 31,
   "id": "5aaabb32",
   "metadata": {},
   "outputs": [],
   "source": [
    "pred_var_1 = pred_var[['age', 'children', 'bmi', 'smoker']]\n",
    "targ_var_1 = targ_var.iloc[:, -1]\n",
    "\n",
    "X_train, x_test, Y_train, y_test = train_test_split(pred_var_1, targ_var_1, test_size=0.2, random_state=2)"
   ]
  },
  {
   "cell_type": "code",
   "execution_count": 32,
   "id": "0263e012",
   "metadata": {},
   "outputs": [
    {
     "name": "stdout",
     "output_type": "stream",
     "text": [
      "The alpha value and its corresponding Lasso Regression score is as follows: \n",
      "\n",
      "The alpha value of 1.0 for the Lasso Regression has a score of 0.668716988940552\n",
      "The alpha value of 1.5 for the Lasso Regression has a score of 0.6687076875053326\n",
      "The alpha value of 2.0 for the Lasso Regression has a score of 0.6686983540414493\n",
      "The alpha value of 2.5 for the Lasso Regression has a score of 0.6686889885489021\n",
      "The alpha value of 5.0 for the Lasso Regression has a score of 0.6686416806562068\n",
      "The alpha value of 10.0 for the Lasso Regression has a score of 0.6685446627210214\n",
      "The alpha value of 12.0 for the Lasso Regression has a score of 0.6685049587443569\n",
      "The alpha value of 15.0 for the Lasso Regression has a score of 0.6684444419194422\n",
      "The alpha value of 20.0 for the Lasso Regression has a score of 0.6683410182514695\n"
     ]
    }
   ],
   "source": [
    "#Lasso Regression\n",
    "alpha = [1.0, 1.5, 2.0, 2.5, 5.0, 10.0, 12.0, 15.0, 20.0]\n",
    "lasso_result = {} \n",
    "\n",
    "for alpha_val in alpha: \n",
    "    lasso_reg = Lasso(alpha=alpha_val) \n",
    "    lasso_reg.fit(X_train, Y_train) \n",
    "    y_pred = lasso_reg.predict(x_test) \n",
    "    lasso_score = lasso_reg.score(x_test, y_test) \n",
    "    lasso_result[alpha_val] = lasso_score\n",
    "    \n",
    "\n",
    "print(\"The alpha value and its corresponding Lasso Regression score is as follows: \\n\")\n",
    "\n",
    "for alpha_val, score in lasso_result.items():\n",
    "    print(\"The alpha value of {} for the Lasso Regression has a score of {}\".format(alpha_val, score))"
   ]
  },
  {
   "cell_type": "markdown",
   "id": "817c0af6",
   "metadata": {},
   "source": [
    "Since, the score for different alpha is similar, we will consider alpha = 1.0 as the score is slightly higher."
   ]
  },
  {
   "cell_type": "code",
   "execution_count": 33,
   "id": "eba4f86b",
   "metadata": {},
   "outputs": [
    {
     "name": "stdout",
     "output_type": "stream",
     "text": [
      "The slope and the intercept of our linear equation will be given by : \n",
      "slope: [3065.07300629  424.08515186  938.35809657 6411.1785996 ]\n",
      "intercept: 10789.810172004762\n",
      "with coefficient of determination of test data: 0.668716988940552\n",
      "and coefficient of determination of training data: 0.6322559171463978\n",
      "The linear equation can be written as: \n",
      "\n",
      "y = 10789.810172004762 + 3065.07 x_0 + 424.09 x_1 + 938.36 x_2 + 6411.18 x_3\n"
     ]
    }
   ],
   "source": [
    "lasso_reg = Lasso(alpha=1.0)\n",
    "lasso_reg.fit(X_train, Y_train)\n",
    "y_pred = lasso_reg.predict(x_test)\n",
    "\n",
    "print(\"The slope and the intercept of our linear equation will be given by : \\n\\\n",
    "slope: {}\\n\\\n",
    "intercept: {}\\n\\\n",
    "with coefficient of determination of test data: {}\\n\\\n",
    "and coefficient of determination of training data: {}\".format(\n",
    "    lasso_reg.coef_, lasso_reg.intercept_, lasso_reg.score(x_test, y_test), lasso_reg.score(X_train, Y_train)\n",
    "))\n",
    "\n",
    "print(\"The linear equation can be written as: \\n\")\n",
    "lin_eq = 'y = ' + str(lasso_reg.intercept_) \n",
    "for ind, coeff in enumerate(lasso_reg.coef_):\n",
    "    lin_eq = lin_eq + ' + ' + str(round(coeff,2)) + ' x_' + str(ind)\n",
    "    \n",
    "    \n",
    "print(lin_eq)"
   ]
  },
  {
   "cell_type": "code",
   "execution_count": 34,
   "id": "affbc19f",
   "metadata": {},
   "outputs": [
    {
     "name": "stdout",
     "output_type": "stream",
     "text": [
      "The mean-squared error of the test data is: 20161969.433829874\n",
      "\n",
      "The mean-squared error of the train data is: 27570647.68351087\n",
      "\n",
      "The ratio of MSE of test to MSE of train is 0.7312838517713934\n",
      "\n",
      "The absolute difference between the MSE of test and MSE of train is 7408678.249680996\n",
      "\n"
     ]
    }
   ],
   "source": [
    "#MSE of the test data \n",
    "mse_test = mean_squared_error(y_test, y_pred)\n",
    "print(\"The mean-squared error of the test data is: {}\\n\".format(mse_test))\n",
    "\n",
    "y_train_pred = lasso_reg.predict(X_train)\n",
    "\n",
    "#MSE of the train data \n",
    "mse_train = mean_squared_error(Y_train, y_train_pred)\n",
    "print(\"The mean-squared error of the train data is: {}\\n\".format(mse_train))\n",
    "\n",
    "#Finding the ratio for MSE of test to MSE of train.\n",
    "mse_ratio = mse_test/mse_train \n",
    "print(\"The ratio of MSE of test to MSE of train is {}\\n\".format(mse_ratio))\n",
    "\n",
    "#Finding the absolute difference between MSE of test and MSE of train. \n",
    "abs_diff = abs(mse_test - mse_train)\n",
    "print(\"The absolute difference between the MSE of test and MSE of train is {}\\n\".format(abs_diff))"
   ]
  },
  {
   "cell_type": "code",
   "execution_count": 35,
   "id": "71abb30e",
   "metadata": {},
   "outputs": [
    {
     "name": "stdout",
     "output_type": "stream",
     "text": [
      "Fitting 5 folds for each of 72 candidates, totalling 360 fits\n"
     ]
    },
    {
     "data": {
      "text/plain": [
       "GridSearchCV(cv=5, estimator=Ridge(), n_jobs=-1,\n",
       "             param_grid={'alpha': [1.0, 1.5, 2.0, 2.5, 5.0, 10.0, 12.0, 15.0,\n",
       "                                   20.0],\n",
       "                         'solver': ['auto', 'svd', 'cholesky', 'lsqr',\n",
       "                                    'sparse_cg', 'sag', 'saga', 'lbfgs']},\n",
       "             verbose=True)"
      ]
     },
     "execution_count": 35,
     "metadata": {},
     "output_type": "execute_result"
    }
   ],
   "source": [
    "ridge_reg = Ridge()\n",
    "\n",
    "param = {\n",
    "    'alpha': [1.0, 1.5, 2.0, 2.5, 5.0, 10.0, 12.0, 15.0, 20.0],\n",
    "    'solver': ['auto', 'svd', 'cholesky', 'lsqr', 'sparse_cg', 'sag', 'saga', 'lbfgs']\n",
    "}\n",
    "\n",
    "grid_search = GridSearchCV(ridge_reg, param_grid=param, cv=5, n_jobs=-1, verbose=True)\n",
    "\n",
    "grid_search.fit(X_train, Y_train)"
   ]
  },
  {
   "cell_type": "code",
   "execution_count": 36,
   "id": "879c4762",
   "metadata": {},
   "outputs": [
    {
     "name": "stdout",
     "output_type": "stream",
     "text": [
      "From the GridSearchCV module, we can see that we have obtained 0.6073447465906999 as our best score which is 60.73% accuracy with 5 cross validation splits. \n",
      "The best parameters to obtain this score are from {'alpha': 20.0, 'solver': 'saga'} parameters\n"
     ]
    }
   ],
   "source": [
    "print(\"From the GridSearchCV module, we can see that we have obtained {} as our best score which is {}% accuracy\\\n",
    " with {} cross validation splits. \\nThe best parameters to obtain this score are from {} parameters\".\n",
    "     format(\n",
    "         grid_search.best_score_,\n",
    "         round(grid_search.best_score_,4) * 100,\n",
    "         grid_search.n_splits_,\n",
    "         grid_search.best_params_\n",
    "     ))"
   ]
  },
  {
   "cell_type": "markdown",
   "id": "d8913715",
   "metadata": {},
   "source": [
    "We will use the suggested parameters for the ridge regression to get an optimal solution. "
   ]
  },
  {
   "cell_type": "code",
   "execution_count": 37,
   "id": "488fbf31",
   "metadata": {},
   "outputs": [
    {
     "name": "stdout",
     "output_type": "stream",
     "text": [
      "The slope and the intercept of our linear equation will be given by : \n",
      "slope: [2988.47452923  421.22947688  897.97617629 6278.67623944]\n",
      "intercept: 10793.14588496814\n",
      "with coefficient of determination: 0.6678516775872186\n",
      "\n",
      "The linear equation can be written as: \n",
      "\n",
      "y = 10793.14588496814 + 2988.47 x_0 + 421.23 x_1 + 897.98 x_2 + 6278.68 x_3\n"
     ]
    }
   ],
   "source": [
    "ridge_reg = Ridge(alpha=20.0, solver='saga')\n",
    "ridge_reg.fit(X_train, Y_train)\n",
    "y_pred = ridge_reg.predict(x_test)\n",
    "\n",
    "print(\"The slope and the intercept of our linear equation will be given by : \\n\\\n",
    "slope: {}\\n\\\n",
    "intercept: {}\\n\\\n",
    "with coefficient of determination: {}\\n\".format(\n",
    "    ridge_reg.coef_, ridge_reg.intercept_, ridge_reg.score(x_test, y_test)\n",
    "))\n",
    "\n",
    "print(\"The linear equation can be written as: \\n\")\n",
    "lin_eq = 'y = ' + str(ridge_reg.intercept_) \n",
    "for ind, coeff in enumerate(ridge_reg.coef_):\n",
    "    lin_eq = lin_eq + ' + ' + str(round(coeff,2)) + ' x_' + str(ind)\n",
    "    \n",
    "    \n",
    "print(lin_eq)"
   ]
  },
  {
   "cell_type": "code",
   "execution_count": 38,
   "id": "8ad34933",
   "metadata": {},
   "outputs": [
    {
     "name": "stdout",
     "output_type": "stream",
     "text": [
      "The mean-squared error of the test data is: 20214632.505808298\n",
      "\n",
      "The mean-squared error of the train data is: 27593379.43246966\n",
      "\n",
      "The ratio of MSE of test to MSE of train is 0.7325899517049134\n",
      "\n",
      "The absolute difference between the MSE of test and MSE of train is 7378746.926661361\n",
      "\n"
     ]
    }
   ],
   "source": [
    "#MSE of the test data \n",
    "mse_test = mean_squared_error(y_test, y_pred)\n",
    "print(\"The mean-squared error of the test data is: {}\\n\".format(mse_test))\n",
    "\n",
    "y_train_pred = ridge_reg.predict(X_train)\n",
    "\n",
    "#MSE of the train data \n",
    "mse_train = mean_squared_error(Y_train, y_train_pred)\n",
    "print(\"The mean-squared error of the train data is: {}\\n\".format(mse_train))\n",
    "\n",
    "#Finding the ratio for MSE of test to MSE of train.\n",
    "mse_ratio = mse_test/mse_train \n",
    "print(\"The ratio of MSE of test to MSE of train is {}\\n\".format(mse_ratio))\n",
    "\n",
    "#Finding the absolute difference between MSE of test and MSE of train. \n",
    "abs_diff = abs(mse_test - mse_train)\n",
    "print(\"The absolute difference between the MSE of test and MSE of train is {}\\n\".format(abs_diff))"
   ]
  },
  {
   "cell_type": "code",
   "execution_count": 39,
   "id": "6d729674",
   "metadata": {},
   "outputs": [
    {
     "name": "stdout",
     "output_type": "stream",
     "text": [
      "The alpha value and its corresponding Elastic Regression score is as follows: \n",
      "\n",
      "The alpha value of 1.0 for the Elastic Regression has a score of 0.5420511400509895\n",
      "The alpha value of 1.5 for the Elastic Regression has a score of 0.4914688245482852\n",
      "The alpha value of 2.0 for the Elastic Regression has a score of 0.44717453283097097\n",
      "The alpha value of 2.5 for the Elastic Regression has a score of 0.4091228041716075\n",
      "The alpha value of 5.0 for the Elastic Regression has a score of 0.2838424281431723\n",
      "The alpha value of 10.0 for the Elastic Regression has a score of 0.17442125318163926\n",
      "The alpha value of 12.0 for the Elastic Regression has a score of 0.15098508510791298\n",
      "The alpha value of 15.0 for the Elastic Regression has a score of 0.1256102929934989\n",
      "The alpha value of 20.0 for the Elastic Regression has a score of 0.09806891235232318\n"
     ]
    }
   ],
   "source": [
    "#Elastic Regression\n",
    "alpha = [1.0, 1.5, 2.0, 2.5, 5.0, 10.0, 12.0, 15.0, 20.0]\n",
    "elastic_result = {} \n",
    "\n",
    "X_train, x_test, Y_train, y_test = train_test_split(pred_var, targ_var, test_size=0.2, random_state = 5)\n",
    "\n",
    "for alpha_val in alpha: \n",
    "    elastic_reg = ElasticNet(alpha=alpha_val) \n",
    "    elastic_reg.fit(X_train, Y_train) \n",
    "    y_pred = elastic_reg.predict(x_test) \n",
    "    elastic_score = elastic_reg.score(x_test, y_test) \n",
    "    elastic_result[alpha_val] = elastic_score\n",
    "    \n",
    "\n",
    "print(\"The alpha value and its corresponding Elastic Regression score is as follows: \\n\")\n",
    "\n",
    "for alpha_val, score in elastic_result.items():\n",
    "    print(\"The alpha value of {} for the Elastic Regression has a score of {}\".format(alpha_val, score))"
   ]
  },
  {
   "cell_type": "markdown",
   "id": "039815a2",
   "metadata": {},
   "source": [
    "Since, the score for different alpha is similar, we will consider alpha = 1.0"
   ]
  },
  {
   "cell_type": "code",
   "execution_count": 40,
   "id": "b7778399",
   "metadata": {},
   "outputs": [
    {
     "name": "stdout",
     "output_type": "stream",
     "text": [
      "The slope and the intercept of our linear equation will be given by : \n",
      "slope: [1995.57799419  389.2395043   412.72462693  343.25641456 4065.67658045\n",
      "  228.33982012]\n",
      "intercept: [10664.43840505]\n",
      "with coefficient of determination: 0.5420511400509895\n",
      "\n",
      "The linear equation can be written as: \n",
      "\n",
      "y = 10664.43840505299 + 1995.58 x_0 + 389.24 x_1 + 412.72 x_2 + 343.26 x_3 + 4065.68 x_4 + 228.34 x_5\n"
     ]
    }
   ],
   "source": [
    "elastic_reg = ElasticNet(alpha=1.0)\n",
    "elastic_reg.fit(X_train, Y_train)\n",
    "y_pred = elastic_reg.predict(x_test)\n",
    "\n",
    "print(\"The slope and the intercept of our linear equation will be given by : \\n\\\n",
    "slope: {}\\n\\\n",
    "intercept: {}\\n\\\n",
    "with coefficient of determination: {}\\n\".format(\n",
    "    elastic_reg.coef_, elastic_reg.intercept_, elastic_reg.score(x_test, y_test)\n",
    "))\n",
    "\n",
    "print(\"The linear equation can be written as: \\n\")\n",
    "lin_eq = 'y = ' + str(elastic_reg.intercept_[0]) \n",
    "for ind, coeff in enumerate(elastic_reg.coef_):\n",
    "    lin_eq = lin_eq + ' + ' + str(round(coeff,2)) + ' x_' + str(ind)\n",
    "    \n",
    "    \n",
    "print(lin_eq)"
   ]
  },
  {
   "cell_type": "code",
   "execution_count": 41,
   "id": "0386e006",
   "metadata": {},
   "outputs": [
    {
     "name": "stdout",
     "output_type": "stream",
     "text": [
      "The mean-squared error of the test data is: 34456604.34706397\n",
      "\n",
      "The mean-squared error of the train data is: 31206696.137352493\n",
      "\n",
      "The ratio of MSE of test to MSE of train is 1.1041413738707682\n",
      "\n",
      "The absolute difference between the MSE of test and MSE of train is 3249908.209711481\n"
     ]
    }
   ],
   "source": [
    "#MSE of the test data \n",
    "mse_test = mean_squared_error(y_test, y_pred)\n",
    "print(\"The mean-squared error of the test data is: {}\\n\".format(mse_test))\n",
    "\n",
    "y_train_pred = elastic_reg.predict(X_train)\n",
    "\n",
    "#MSE of the train data \n",
    "mse_train = mean_squared_error(Y_train, y_train_pred)\n",
    "print(\"The mean-squared error of the train data is: {}\\n\".format(mse_train))\n",
    "\n",
    "#Finding the ratio for MSE of test to MSE of train.\n",
    "mse_ratio = mse_test/mse_train \n",
    "print(\"The ratio of MSE of test to MSE of train is {}\\n\".format(mse_ratio))\n",
    "\n",
    "#Finding the absolute difference between MSE of test and MSE of train. \n",
    "abs_diff = abs(mse_test - mse_train)\n",
    "print(\"The absolute difference between the MSE of test and MSE of train is {}\".format(abs_diff))"
   ]
  },
  {
   "cell_type": "markdown",
   "id": "48bec4ac",
   "metadata": {},
   "source": [
    "After executing all the various regression, we can pick one which has the best fit among the available ones and using the provided linear equation we can create a function that would give us our predicted value (medical expenses) \n",
    "\n",
    "We are using the linear equation that was obtained after executing the Ridge Regression as it has the highest score among all the others by few margin. "
   ]
  },
  {
   "cell_type": "code",
   "execution_count": 42,
   "id": "69787fa2",
   "metadata": {},
   "outputs": [],
   "source": [
    "#Function to predict the medical expenses and premium insurance. \n",
    "def predict_medical_value(age, children, bmi, smoker):\n",
    "    if smoker.lower() == 'yes':\n",
    "        smoker=1\n",
    "    else:\n",
    "        smoker=0\n",
    "        \n",
    "    predicted_expenses = 10789.810172004762 + (3065.07 * age) + (424.09 * children) + (938.36 * bmi) + (6411.18 * smoker)\n",
    "    print(\"The predicted medical expenses is USD {} for an individual of age {}, \\\n",
    "having {} children with {} bmi and who {}smoke. \\n\".format(\n",
    "        predicted_expenses, age, children, bmi, ('' if (smoker == 1) else 'does not ')\n",
    "    ))\n",
    "    \n",
    "    if predicted_expenses <= 10000:\n",
    "        print(\"The premium for an individual is USD 4000\")\n",
    "    elif predicted_expenses > 10000 and predicted_expenses <= 20000: \n",
    "        print(\"The premium for an individual is USD 7500\")\n",
    "    elif predicted_expenses > 20000 and predicted_expenses <= 35000: \n",
    "        print(\"The premium for an individual is USD 12000\")\n",
    "    elif predicted_expenses > 35000 and predicted_expenses <= 50000:\n",
    "        print(\"The premium for an individual is USD 17000\")\n",
    "    else:\n",
    "        print(\"The premium for an individual is USD 25000\")\n",
    "    print(\"-+-\"*20)"
   ]
  },
  {
   "cell_type": "code",
   "execution_count": 43,
   "id": "4c83337f",
   "metadata": {},
   "outputs": [
    {
     "name": "stdout",
     "output_type": "stream",
     "text": [
      "The predicted medical expenses is USD 147847.26017200475 for an individual of age 35, having 2 children with 24 bmi and who smoke. \n",
      "\n",
      "The premium for an individual is USD 25000\n",
      "-+--+--+--+--+--+--+--+--+--+--+--+--+--+--+--+--+--+--+--+-\n",
      "The predicted medical expenses is USD 207005.19017200478 for an individual of age 55, having 1 children with 29 bmi and who does not smoke. \n",
      "\n",
      "The premium for an individual is USD 25000\n",
      "-+--+--+--+--+--+--+--+--+--+--+--+--+--+--+--+--+--+--+--+-\n"
     ]
    }
   ],
   "source": [
    "#Predicting the medical expenses and premium for an individual with age = 35, children = 2, bmi = 24 and smoker = yes \n",
    "predict_medical_value(35, 2, 24, 'yes')\n",
    "\n",
    "#Predicting the medical expenses and premium for an individual with age = 55, children = 1, bmi = 29 and smoker = no \n",
    "predict_medical_value(55, 1, 29, 'no')"
   ]
  },
  {
   "cell_type": "markdown",
   "id": "6e064f42",
   "metadata": {},
   "source": [
    "### Conclusion"
   ]
  },
  {
   "cell_type": "markdown",
   "id": "52f613e4",
   "metadata": {},
   "source": [
    "Hence, we can conclude that the linear equation we have obtained are mostly similar when fitted to Linear Regression, Lasso Regression and Ridge Regression with age, children, bmi, region and smoker as the predictor features. All of them provided us with a coefficient of determination score of 0.7444 which determines that the fit is little above average. To get better fit of the data, we might need to add few more data as the data provided to us are underfitting. \n",
    "\n",
    "With this model, we can pick up any linear equation to predict medical expenses of an individual, which might help us solve to determine the medical insurance premium. \n",
    "\n",
    "Using this model might not give us an accurate prediction on determining the insurance premium for an individual. However, if we are limited to this set of data to predict the insurance premium, I would suggest to define a range for medical expenses, that might fall under the premium price. For example, we can say a premium of USD17000 per year needs to be paid for an individual whose expenses are beween USD50000 and USD60000. \n",
    "\n",
    "Moreover, the feature children raises some questions and should be researched more on whether it is a valid field. If the children are included in the medical insurance plan, the prices are likely to be high, whereas, if children are not included on the medical insurance plan, then the feature should not be used in the model."
   ]
  },
  {
   "cell_type": "code",
   "execution_count": null,
   "id": "50b93b4e",
   "metadata": {},
   "outputs": [],
   "source": []
  }
 ],
 "metadata": {
  "kernelspec": {
   "display_name": "Python 3",
   "language": "python",
   "name": "python3"
  },
  "language_info": {
   "codemirror_mode": {
    "name": "ipython",
    "version": 3
   },
   "file_extension": ".py",
   "mimetype": "text/x-python",
   "name": "python",
   "nbconvert_exporter": "python",
   "pygments_lexer": "ipython3",
   "version": "3.8.8"
  }
 },
 "nbformat": 4,
 "nbformat_minor": 5
}
